{
 "cells": [
  {
   "cell_type": "markdown",
   "id": "de6ddab0",
   "metadata": {},
   "source": [
    "# An overview of SciPy\n",
    "\n",
    "\n",
    "SciPy is a free and open-source Python library used for scientific computation. SciPy contains modules for optimization, linear algebra, integration, interpolation, special functions, FFT, signal and image processing, ODE solvers and other tasks common in science and engineering [Wikipedia](https://en.wikipedia.org/wiki/SciPy). Out of many functionalities, those which are the most relevant to the CBCS course curriculum for Physics will be discussed here. Scipy doumentation can be acessed through [https://docs.scipy.org](https://docs.scipy.org)."
   ]
  },
  {
   "cell_type": "markdown",
   "id": "04420eef",
   "metadata": {},
   "source": [
    "## SciPy - Integration\n",
    "\n",
    "\n",
    "The `scipy.integrate` sub-package provides several integration techniques including an ordinary differential equation integrator. An overview of the module is provided by the help command:\n",
    "\n",
    "|     |     |\n",
    "| :--- | :--- |\n",
    "|`quad`| General purpose integration.|\n",
    "|`dblquad`| General purpose double integration.|\n",
    "|`tplquad`| General purpose triple integration.|\n",
    "|`fixed_quad`| Integrate func(x) using Gaussian quadrature of order n.|\n",
    "|`quadrature`| Integrate with given tolerance using Gaussian quadrature.|\n",
    "|`romberg`| Integrate func using Romberg integration.|"
   ]
  },
  {
   "cell_type": "markdown",
   "id": "5f3e766f",
   "metadata": {},
   "source": [
    "### Integrating Functions is a  function object."
   ]
  },
  {
   "cell_type": "markdown",
   "id": "92ed0034",
   "metadata": {},
   "source": [
    "#### `quad` - General purpose integration\n",
    "\n",
    "\n",
    "```\n",
    "scipy.integrate.quad(func, a, b, args(), ...)\n",
    "```\n",
    "[Source]((https://docs.scipy.org/doc/scipy/reference/generated/scipy.integrate.quad.html#scipy.integrate.quad))\n",
    "\n",
    "Integrate `func` from `a` to `b` and compute the value of the definite integral.\n",
    "\n",
    "*   `func`, any Python function,\n",
    "*   `a` and `b` are lower and upper limit of integration\n",
    "*   `args()` are list of arguments and it is optional."
   ]
  },
  {
   "cell_type": "markdown",
   "id": "a6f0a45f",
   "metadata": {},
   "source": [
    "Consider the integral\n",
    "    \n",
    "\\begin{equation}\n",
    "\\int_{0}^{3} \\cos^2(e^x)dx\n",
    "\\end{equation}"
   ]
  },
  {
   "cell_type": "code",
   "execution_count": 38,
   "id": "92eb0abd",
   "metadata": {},
   "outputs": [
    {
     "name": "stdout",
     "output_type": "stream",
     "text": [
      "(1.296467785724373, 1.3977971853986262e-09)\n"
     ]
    }
   ],
   "source": [
    "import numpy as np\n",
    "from scipy.integrate import quad\n",
    "\n",
    "func = lambda x: np.cos(np.exp(x))**2  # integrand  \n",
    "a    = 0                               # lower limit\n",
    "b    = 3                               # upper limit\n",
    "\n",
    "result = quad(func, a, b)\n",
    "print(result)\n",
    "\n",
    "# result is a tuple whose first element is the value of the integral \n",
    "# and the second element is the error"
   ]
  },
  {
   "cell_type": "markdown",
   "id": "7f52eb50",
   "metadata": {},
   "source": [
    "The result is a tuple whose first element is the *value* of the integral and the second one is the *error*."
   ]
  },
  {
   "cell_type": "markdown",
   "id": "ff17f53e",
   "metadata": {},
   "source": [
    "Consider an integral of the form -\n",
    "\\begin{equation}\n",
    "I(p, q) = \\int_{a}^{b}(px + q) dx\n",
    "\\end{equation}\n",
    "where $p=2$ and $q=1$. Also the limit of integrations are $0$ to $1$."
   ]
  },
  {
   "cell_type": "code",
   "execution_count": 39,
   "id": "53a1b4f6",
   "metadata": {},
   "outputs": [
    {
     "name": "stdout",
     "output_type": "stream",
     "text": [
      "(2.0, 2.220446049250313e-14)\n"
     ]
    }
   ],
   "source": [
    "func = lambda x, p, q: p*x + q\n",
    "\n",
    "a, b = 0, 1\n",
    "p, q = 2, 1\n",
    "\n",
    "result = quad(func, a, b, args=(p, q))\n",
    "print(result)"
   ]
  },
  {
   "cell_type": "markdown",
   "id": "903385ef",
   "metadata": {},
   "source": [
    "#### `dblquad` - General purpose Double Integration\n",
    "\n",
    "```\n",
    "scipy.integrate.dblquad(func, a, b, gfun, hfun, args=(), ...)\n",
    "```\n",
    "[source](https://docs.scipy.org/doc/scipy/reference/generated/scipy.integrate.dblquad.html#scipy.integrate.dblquad)\n",
    "\n",
    "Integrate the `func(y, x)` from `x = a..b` and `y = gfun(x)..hfun(x)`\n",
    "\n",
    "Parameters:\n",
    "\n",
    "-   `func`: a callable Python function of two variables - `y` the first argument and `x` the second.\n",
    "-   `a`, `b`: the limit of integration in `x`, `a<b`.\n",
    "-   `gfun`: lower boundary curve in `y` which takes a single argument `x`.\n",
    "-   `hfun`: upper boundary curve in `y` which takes a single argument `x`.\n",
    "-   `args`: extra argument to pass to the `func`.\n",
    "\n",
    "Returns:\n",
    "\n",
    "- The value of the integral.\n",
    "- error value."
   ]
  },
  {
   "cell_type": "markdown",
   "id": "6ee1db38",
   "metadata": {},
   "source": [
    "### Example\n",
    "\n",
    "Compute the double integral of $\\phi(x,y)=xy^2$ over the plane of a square where $x$ extends from 0 to 2 and $y$ from 0 to 1.."
   ]
  },
  {
   "cell_type": "code",
   "execution_count": 40,
   "id": "8aef8b5b",
   "metadata": {},
   "outputs": [
    {
     "name": "stdout",
     "output_type": "stream",
     "text": [
      "(0.6666666666666667, 7.401486830834377e-15)\n"
     ]
    }
   ],
   "source": [
    "from scipy.integrate import dblquad\n",
    "\n",
    "func = lambda y, x: x*y**2\n",
    "a, b = 0, 2\n",
    "gfunc, hfunc = lambda x:0, lambda x: 1\n",
    "\n",
    "result = dblquad(func, a, b, gfunc, hfunc)\n",
    "print(result)"
   ]
  },
  {
   "cell_type": "markdown",
   "id": "cd8bd112",
   "metadata": {},
   "source": [
    "### Example\n",
    "Compute the double integral \n",
    "\\begin{equation}\n",
    "\\int_{0}^{1}\\int_{0}^{x}(x^2 + y^2) dA\n",
    "\\end{equation}\n",
    "where $dA$ indicates small area in $xy$-plane."
   ]
  },
  {
   "cell_type": "code",
   "execution_count": 41,
   "id": "775e5619",
   "metadata": {},
   "outputs": [
    {
     "name": "stdout",
     "output_type": "stream",
     "text": [
      "(0.3333333333333333, 1.4706752548740773e-14)\n"
     ]
    }
   ],
   "source": [
    "from scipy.integrate import dblquad\n",
    "\n",
    "func = lambda y, x: x**2 + y**2\n",
    "a, b = 0, 1\n",
    "gfunc, hfunc = lambda x:0, lambda x: x\n",
    "\n",
    "result = dblquad(func, a, b, gfunc, hfunc)\n",
    "print(result)"
   ]
  },
  {
   "cell_type": "markdown",
   "id": "23f19fd9",
   "metadata": {},
   "source": [
    "#### `tplquad` - General purpose Triple Integration\n",
    "\n",
    "```\n",
    "scipy.integrate.tplquad(func, a, b, gfun, hfun, qfun, rfun, args=(), ...)\n",
    "```\n",
    "[source](https://docs.scipy.org/doc/scipy/reference/generated/scipy.integrate.tplquad.html#scipy.integrate.tplquad)\n",
    "\n",
    "Return the triple integral of `func(z, y, x)` from `x = a..b`, `y = gfun(x)..hfun(x)`, and `z = qfun(x,y)..rfun(x,y)`.\n",
    "\n",
    "Parameters:\n",
    "\n",
    "-   `func`: a callable Python function of at least three variables in the order (z, y, x).\n",
    "-   `a`, `b`: the limit of integration in `x`, `a<b`.\n",
    "-   `gfun`: lower boundary curve in `y` which takes a single argument `x`.\n",
    "-   `hfun`: upper boundary curve in `y` which takes a single argument `x`.\n",
    "-   `qfun`: The lower boundary surface in z. It must be a function that takes two floats in the order             (x, y). \n",
    "-   `rfun`: The upper boundary surface in z. It must be a function that takes two floats in the order             (x, y). \n",
    "-   `args`: extra argument to pass to the `func`.\n",
    "\n",
    "Returns:\n",
    "\n",
    "- The value of the integral.\n",
    "- error value."
   ]
  },
  {
   "cell_type": "markdown",
   "id": "5f8c2ffc",
   "metadata": {},
   "source": [
    "#### Volume of a unit sphere\n",
    "\n",
    "Let us attempt to find the volume of a unit sphere. We can solve the problem in cartesian coordinate as well as spherical polar coordinate.\n",
    "\n",
    "In cartesian coordinate, volume can be expressed interms of triple integral -\n",
    "\\begin{equation}\n",
    "V = 8\\int_{0}^{1}\\int_{0}^{\\sqrt{1-x^2}}\\int_{0}^{\\sqrt{1-x^2-y^2}}dzdydx\n",
    "\\end{equation}\n",
    "\n",
    "In spherical polar coordinate, it is expressed as -\n",
    "\\begin{equation}\n",
    "V = \\int_{0}^{2\\pi}\\int_{0}^{\\pi}\\int_{0}^{1}r^2 \\sin \\theta drd\\theta d\\phi\n",
    "\\end{equation}"
   ]
  },
  {
   "cell_type": "code",
   "execution_count": 42,
   "id": "62d51f0f",
   "metadata": {},
   "outputs": [
    {
     "name": "stdout",
     "output_type": "stream",
     "text": [
      "Volume of the sphere = 4.189\n"
     ]
    }
   ],
   "source": [
    "# In cartesian coordinate\n",
    "from scipy.integrate import tplquad\n",
    "import numpy as np\n",
    "\n",
    "func = lambda x, y, z: 1\n",
    "a, b = 0, 1\n",
    "gfun, hfun = lambda x: 0, lambda x: np.sqrt(1 - x**2)\n",
    "qfun, rfun = lambda x, y: 0, lambda x, y: np.sqrt(1 - x**2 - y**2)\n",
    "\n",
    "result, error = tplquad(func, a, b, gfun, hfun, qfun, rfun)\n",
    "print(\"Volume of the sphere = %0.3f\"%(result*8))"
   ]
  },
  {
   "cell_type": "code",
   "execution_count": 43,
   "id": "421ac54a",
   "metadata": {},
   "outputs": [
    {
     "name": "stdout",
     "output_type": "stream",
     "text": [
      "Volume of the sphere = 4.189\n"
     ]
    }
   ],
   "source": [
    "# In spherical polar coordinate\n",
    "from scipy.integrate import tplquad\n",
    "import numpy as np\n",
    "\n",
    "func = lambda phi, theta, r: r**2*np.sin(theta)\n",
    "a, b = 0, 1\n",
    "gfun, hfun = lambda theta: 0, lambda theta: np.pi\n",
    "qfun, rfun = lambda theta, phi: 0, lambda theta, phi: 2*np.pi\n",
    "\n",
    "result, error = tplquad(func, a, b, gfun, hfun, qfun, rfun)\n",
    "print(\"Volume of the sphere = %0.3f\"%(result))"
   ]
  },
  {
   "cell_type": "markdown",
   "id": "08b3b7e9",
   "metadata": {},
   "source": [
    "Evaluate\n",
    "\\begin{equation}\n",
    "\\int_{1}^{2}\\int_{2}^{3}\\int_{0}^{1}xyzdxdydz\n",
    "\\end{equation}"
   ]
  },
  {
   "cell_type": "code",
   "execution_count": 44,
   "id": "86e41b6e",
   "metadata": {},
   "outputs": [
    {
     "name": "stdout",
     "output_type": "stream",
     "text": [
      "(1.8750000000000002, 3.324644794257407e-14)\n"
     ]
    }
   ],
   "source": [
    "from scipy.integrate import tplquad\n",
    "\n",
    "func = lambda x, y, z: x*y*z\n",
    "a, b = 1, 2\n",
    "gfun, hfun = lambda x: 2, lambda x: 3\n",
    "qfun, rfun = lambda x, y: 0, lambda x, y: 1\n",
    "\n",
    "result = tplquad(func, a, b, gfun, hfun, qfun, rfun)\n",
    "print(result)"
   ]
  },
  {
   "cell_type": "markdown",
   "id": "31a84b11",
   "metadata": {},
   "source": [
    "Evaluate\n",
    "\\begin{equation}\n",
    "\\int\\int\\int x^2yz dxdydz\n",
    "\\end{equation}\n",
    "throughout the volume bounded by the plane $x=0$, $y=0$ and $z=0$, $x+y+z=1$."
   ]
  },
  {
   "cell_type": "code",
   "execution_count": 45,
   "id": "08d458f8",
   "metadata": {},
   "outputs": [
    {
     "name": "stdout",
     "output_type": "stream",
     "text": [
      "(0.0003968253968253968, 3.14561023818924e-17)\n"
     ]
    }
   ],
   "source": [
    "from scipy.integrate import tplquad\n",
    "\n",
    "func = lambda x, y, z: x**2*y*z\n",
    "a, b = 0, 1\n",
    "gfun, hfun = lambda x: 0, lambda x: 1 - x\n",
    "qfun, rfun = lambda x, y: 0, lambda x, y: 1 - x - y\n",
    "\n",
    "result = tplquad(func, a, b, gfun, hfun, qfun, rfun)\n",
    "print(result)"
   ]
  },
  {
   "cell_type": "markdown",
   "id": "465122cb",
   "metadata": {},
   "source": [
    "Let $\\phi=45x^2y$ and let $V$ denote the closed region bounded by the planes $4x + 2y + z= 8$, $x=0$, $y=0$ and $z=0$. Evaluate the integral $\\int\\int\\int \\phi dV$."
   ]
  },
  {
   "cell_type": "code",
   "execution_count": 46,
   "id": "823410bb",
   "metadata": {},
   "outputs": [
    {
     "name": "stdout",
     "output_type": "stream",
     "text": [
      "2048.0\n"
     ]
    }
   ],
   "source": [
    "from scipy.integrate import tplquad\n",
    "\n",
    "func = lambda x, y, z: 45*x**2*y\n",
    "a, b = 0, 2\n",
    "gfun, hfun = lambda x: 0, lambda x: (4 - 2*x)\n",
    "qfun, rfun = lambda x, y: 0, lambda x, y: (8 - 4*x - 2*y)\n",
    "\n",
    "result = tplquad(func, a, b, gfun, hfun, qfun, rfun)\n",
    "print(result[0])\n",
    "# answer is not correct"
   ]
  },
  {
   "cell_type": "markdown",
   "id": "e77a5df5",
   "metadata": {},
   "source": [
    "Find the volume of the region common to the intersecting cylinders $x^2 + y^2 = a^2$ and $x^2 + z^2 = a^2$.\n",
    "\n",
    "Let us take the radius of each cylinder to be equal to 1."
   ]
  },
  {
   "cell_type": "code",
   "execution_count": 47,
   "id": "3b44b998",
   "metadata": {},
   "outputs": [
    {
     "name": "stdout",
     "output_type": "stream",
     "text": [
      "Required volume =5.333 \n"
     ]
    }
   ],
   "source": [
    "from scipy.integrate import tplquad\n",
    "import numpy as np\n",
    "\n",
    "\n",
    "func = lambda x, y, z: 1\n",
    "a, b = 0, 1\n",
    "gfun, hfun = lambda x: 0, lambda x: np.sqrt(1 - x**2)\n",
    "qfun, rfun = lambda x, y: 0, lambda x, y: np.sqrt(1 - x**2)\n",
    "\n",
    "result = tplquad(func, a, b, gfun, hfun, qfun, rfun)\n",
    "print(\"Required volume =%0.3f \"%(result[0]*8))"
   ]
  },
  {
   "cell_type": "markdown",
   "id": "3785f047",
   "metadata": {},
   "source": [
    "## Gaussian Quadrature\n",
    "\n",
    "*   The first one is `fixed_quad`, which performs fixed-order Gaussian quadrature. \n",
    "*   The second one is `quadrature`, which performs Gaussian quadrature of multiple orders until the difference in the integral estimate is beneath some tolerance supplied by the user. "
   ]
  },
  {
   "cell_type": "markdown",
   "id": "ea6e27dd",
   "metadata": {},
   "source": [
    "### `fixed_quad` - Gaussian quadrature\n",
    "\n",
    "```\n",
    "scipy.integrate.fixed_quad(func, a, b, args=(), n=5)\n",
    "```\n",
    "[source](https://docs.scipy.org/doc/scipy/reference/generated/scipy.integrate.fixed_quad.html#scipy.integrate.fixed_quad)\n",
    "\n",
    "Compute a definite integral using fixed-order Gaussian quadrature.\n",
    "\n",
    "Integrate func from `a` to `b` using Gaussian quadrature of order `n`.\n",
    "\n",
    "\n",
    "Parameters:\n",
    "\n",
    "-   `func`: a callable Python function.\n",
    "-   `a`   : `float`, the lower limit of integration.\n",
    "-   `b`   : `float`, the upper limit of integration.\n",
    "-   `args`: `tuple()`, extra argument to pass to the `func`.\n",
    "-   `n`   : `int`, order of quadrature integration, default is 5.\n",
    "\n",
    "Returns:\n",
    "\n",
    "- The Gaussian quadrature approximation to the integral.\n",
    "- Statically returned value of None."
   ]
  },
  {
   "cell_type": "code",
   "execution_count": 48,
   "id": "ee87f471",
   "metadata": {},
   "outputs": [
    {
     "data": {
      "text/plain": [
       "(0.1110884353741496, None)"
      ]
     },
     "execution_count": 48,
     "metadata": {},
     "output_type": "execute_result"
    }
   ],
   "source": [
    "from scipy.integrate import fixed_quad\n",
    "f = lambda x: x**8\n",
    "fixed_quad(f, 0.0, 1.0, n=4)"
   ]
  },
  {
   "cell_type": "code",
   "execution_count": 49,
   "id": "7781b3e0",
   "metadata": {},
   "outputs": [
    {
     "data": {
      "text/plain": [
       "(0.9999999771971152, None)"
      ]
     },
     "execution_count": 49,
     "metadata": {},
     "output_type": "execute_result"
    }
   ],
   "source": [
    "import numpy as np\n",
    "\n",
    "f = lambda x: np.cos(x)\n",
    "a = 0\n",
    "b = np.pi/2\n",
    "fixed_quad(f, a, b, n=4)"
   ]
  },
  {
   "cell_type": "code",
   "execution_count": 50,
   "id": "f7f2f032",
   "metadata": {},
   "outputs": [
    {
     "data": {
      "text/plain": [
       "(0.4352098672079321, None)"
      ]
     },
     "execution_count": 50,
     "metadata": {},
     "output_type": "execute_result"
    }
   ],
   "source": [
    "f = lambda x: 1/(x**2 + 2)\n",
    "\n",
    "fixed_quad(f, 0, 1)"
   ]
  },
  {
   "cell_type": "markdown",
   "id": "79b8388a",
   "metadata": {},
   "source": [
    "### `quadrature` - Gaussian quadrature\n",
    "\n",
    "```\n",
    "scipy.integrate.quadrature(func, a, b, args=(), tol=1.49e-08, ...)\n",
    "```\n",
    "[source](https://docs.scipy.org/doc/scipy/reference/generated/scipy.integrate.quadrature.html#scipy.integrate.quadrature)\n",
    "\n",
    "Compute a definite integral using fixed-tolerance Gaussian quadrature.\n",
    "\n",
    "Integrate func from `a` to `b` using Gaussian quadrature with absolute tolerance `tol`.\n",
    "\n",
    "\n",
    "Parameters:\n",
    "\n",
    "-   `func`: a callable Python function.\n",
    "-   `a`   : `float`, the lower limit of integration.\n",
    "-   `b`   : `float`, the upper limit of integration.\n",
    "-   `args`: `tuple()`, extra argument to pass to the `func`.\n",
    "-    `tol`, `rtol`: optional\n",
    "Iteration stops when error between last two iterates is less than *tol* OR the relative change is less than *rtol*.\n",
    "Returns:\n",
    "\n",
    "- `float`, Gaussian quadrature approximation (within tolerance) to integral.The Gaussian quadrature approximation to the integral.\n",
    "- `float`, Difference between last two estimates of the integral."
   ]
  },
  {
   "cell_type": "code",
   "execution_count": 51,
   "id": "ebc2dd8e",
   "metadata": {},
   "outputs": [
    {
     "data": {
      "text/plain": [
       "(0.11111111111111106, 4.163336342344337e-17)"
      ]
     },
     "execution_count": 51,
     "metadata": {},
     "output_type": "execute_result"
    }
   ],
   "source": [
    "from scipy.integrate import quadrature\n",
    "f = lambda x: x**8\n",
    "quadrature(f, 0.0, 1.0)"
   ]
  },
  {
   "cell_type": "code",
   "execution_count": 52,
   "id": "4f731db2",
   "metadata": {},
   "outputs": [
    {
     "data": {
      "text/plain": [
       "(0.9999999999999536, 3.9611425250996035e-11)"
      ]
     },
     "execution_count": 52,
     "metadata": {},
     "output_type": "execute_result"
    }
   ],
   "source": [
    "import numpy as np\n",
    "\n",
    "f = lambda x: np.cos(x)\n",
    "a = 0\n",
    "b = np.pi/2\n",
    "quadrature(f, a, b)"
   ]
  },
  {
   "cell_type": "code",
   "execution_count": 53,
   "id": "c46901d6",
   "metadata": {},
   "outputs": [
    {
     "data": {
      "text/plain": [
       "(0.4352098758040617, 8.596129585924928e-09)"
      ]
     },
     "execution_count": 53,
     "metadata": {},
     "output_type": "execute_result"
    }
   ],
   "source": [
    "f = lambda x: 1/(x**2 + 2)\n",
    "\n",
    "quadrature(f, 0, 1)"
   ]
  },
  {
   "cell_type": "markdown",
   "id": "1052ccab",
   "metadata": {},
   "source": [
    "## Integration using sample"
   ]
  },
  {
   "cell_type": "markdown",
   "id": "9ca59918",
   "metadata": {},
   "source": [
    "### `trapezoid`- Trapezoidal rule\n",
    "\n",
    "```\n",
    "scipy.integrate.trapezoid(y, x=None, dx=1.0, axis=- 1)\n",
    "```\n",
    "\n",
    "Integrate along the given axis using the composite trapezoidal rule.\n",
    "\n",
    "Parameters:\n",
    "\n",
    "Integrate y (x) along given axis.\n",
    "\n",
    "*   `y`: array_like\n",
    "\n",
    "         Input array to integrate.\n",
    "\n",
    "*   `x`: array_like, optional\n",
    "\n",
    "         The sample points corresponding to the y values. If x is None, the sample points are \n",
    "         assumed to be evenly spaced dx apart. The default is None.\n",
    "\n",
    "*   `dx`: scalar, optional\n",
    "\n",
    "        The spacing between sample points when x is None. The default is 1.\n",
    "\n",
    "*   `axis`: int, optional\n",
    "\n",
    "          The axis along which to integrate.\n",
    "\n",
    "Returns:\n",
    "\n",
    "*    `trapz`: float\n",
    "\n",
    "           Definite integral as approximated by trapezoidal rule."
   ]
  },
  {
   "cell_type": "code",
   "execution_count": 54,
   "id": "24c30919",
   "metadata": {},
   "outputs": [
    {
     "data": {
      "text/plain": [
       "4.0"
      ]
     },
     "execution_count": 54,
     "metadata": {},
     "output_type": "execute_result"
    }
   ],
   "source": [
    "np.trapz([1,2,3])"
   ]
  },
  {
   "cell_type": "code",
   "execution_count": 55,
   "id": "43fb37e3",
   "metadata": {},
   "outputs": [
    {
     "data": {
      "text/plain": [
       "8.0"
      ]
     },
     "execution_count": 55,
     "metadata": {},
     "output_type": "execute_result"
    }
   ],
   "source": [
    "np.trapz([1,2,3], x=[4,6,8])"
   ]
  },
  {
   "cell_type": "code",
   "execution_count": 56,
   "id": "0698c6c0",
   "metadata": {},
   "outputs": [
    {
     "data": {
      "text/plain": [
       "8.0"
      ]
     },
     "execution_count": 56,
     "metadata": {},
     "output_type": "execute_result"
    }
   ],
   "source": [
    "np.trapz([1,2,3], dx=2)"
   ]
  },
  {
   "cell_type": "code",
   "execution_count": 57,
   "id": "167c1a01",
   "metadata": {},
   "outputs": [
    {
     "data": {
      "text/plain": [
       "array([[0, 1, 2],\n",
       "       [3, 4, 5]])"
      ]
     },
     "execution_count": 57,
     "metadata": {},
     "output_type": "execute_result"
    }
   ],
   "source": [
    "a = np.arange(6).reshape(2, 3); a"
   ]
  },
  {
   "cell_type": "code",
   "execution_count": 58,
   "id": "0e294d61",
   "metadata": {},
   "outputs": [
    {
     "data": {
      "text/plain": [
       "array([1.5, 2.5, 3.5])"
      ]
     },
     "execution_count": 58,
     "metadata": {},
     "output_type": "execute_result"
    }
   ],
   "source": [
    "np.trapz(a, axis=0)"
   ]
  },
  {
   "cell_type": "code",
   "execution_count": 59,
   "id": "f8dfc70d",
   "metadata": {},
   "outputs": [
    {
     "data": {
      "text/plain": [
       "array([2., 8.])"
      ]
     },
     "execution_count": 59,
     "metadata": {},
     "output_type": "execute_result"
    }
   ],
   "source": [
    "np.trapz(a, axis=1)"
   ]
  },
  {
   "cell_type": "markdown",
   "id": "629234ab",
   "metadata": {},
   "source": [
    "### `simpson` - Simpson rule\n",
    "```\n",
    "scipy.integrate.simpson(y, x=None, dx=1, axis=- 1, even='avg')\n",
    "```\n",
    "\n",
    "Integrate y(x) using samples along the given axis and the composite Simpson’s rule. If x is None, spacing of dx is assumed.\n",
    "\n",
    "If there are an even number of samples, N, then there are an odd number of intervals (N-1), but Simpson’s rule requires an even number of intervals. The parameter ‘even’ controls how this is handled.\n",
    "\n",
    "**Parameters**\n",
    "\n",
    "*    y: array_like\n",
    "        Array to be integrated.\n",
    "\n",
    "*    x: array_like, optional\n",
    "        If given, the points at which y is sampled.\n",
    "\n",
    "*    dx: int, optional\n",
    "        Spacing of integration points along axis of x. Only used when x is None. Default is 1.\n",
    "\n",
    "*    axis: int, optional\n",
    "        Axis along which to integrate. Default is the last axis."
   ]
  },
  {
   "cell_type": "code",
   "execution_count": 60,
   "id": "f5025472",
   "metadata": {},
   "outputs": [
    {
     "data": {
      "text/plain": [
       "40.5"
      ]
     },
     "execution_count": 60,
     "metadata": {},
     "output_type": "execute_result"
    }
   ],
   "source": [
    "from scipy import integrate\n",
    "\n",
    "x = np.arange(0, 10)\n",
    "y = np.arange(0, 10)\n",
    "\n",
    "integrate.simpson(y, x)"
   ]
  },
  {
   "cell_type": "code",
   "execution_count": 61,
   "id": "5d782ec8",
   "metadata": {},
   "outputs": [
    {
     "data": {
      "text/plain": [
       "1642.5"
      ]
     },
     "execution_count": 61,
     "metadata": {},
     "output_type": "execute_result"
    }
   ],
   "source": [
    "y = np.power(x, 3)\n",
    "integrate.simpson(y, x)"
   ]
  },
  {
   "cell_type": "code",
   "execution_count": 62,
   "id": "38b6f401",
   "metadata": {},
   "outputs": [
    {
     "data": {
      "text/plain": [
       "1640.25"
      ]
     },
     "execution_count": 62,
     "metadata": {},
     "output_type": "execute_result"
    }
   ],
   "source": [
    "integrate.quad(lambda x: x**3, 0, 9)[0]"
   ]
  },
  {
   "cell_type": "code",
   "execution_count": 63,
   "id": "73c18f81",
   "metadata": {},
   "outputs": [
    {
     "data": {
      "text/plain": [
       "1644.5"
      ]
     },
     "execution_count": 63,
     "metadata": {},
     "output_type": "execute_result"
    }
   ],
   "source": [
    "integrate.simpson(y, x, even='first')"
   ]
  },
  {
   "cell_type": "markdown",
   "id": "df0e1085",
   "metadata": {},
   "source": [
    "## Solving Ordinary Differential Equation"
   ]
  },
  {
   "cell_type": "markdown",
   "id": "efe71abc",
   "metadata": {},
   "source": [
    "### scipy.integrate.odeint\n",
    "\n",
    "```\n",
    "scipy.integrate.odeint(func, y0, t, args=(), ...)\n",
    "```\n",
    "\n",
    "Integrate a system of ordinary differential equations.\n",
    "\n",
    "|     |    \n",
    "|:--- |\n",
    "|**Parameters**|\n",
    "|`func`: **callable(y, t)**|\n",
    "|`y0`: **array** - Initial condition on y (can be a vector).|\n",
    "|`t`: **array** - A sequence of time points for which to solve for y.|\n",
    "|`args`: **tuple, optional** - Extra arguments to pass to function.|\n",
    "\n",
    "|   |  \n",
    "|:--- |\n",
    "|**Returns**|\n",
    "|`y`: **array**, `shape (len(t), len(y0))`|\n",
    "Array containing the value of `y` for each desired time in `t`, with the initial value `y0` in the first row.\n"
   ]
  },
  {
   "cell_type": "markdown",
   "id": "7358983e",
   "metadata": {},
   "source": [
    "#### Example - Oscillation of a pendulum\n",
    "\n",
    "The differential equation representing the motion of a simple pendulum under action of gravity and inpresence of air resistance is given by\n",
    "\\begin{equation}\n",
    "\\frac{d^2\\theta}{dt^2} + b\\frac{d\\theta}{dt} + c\\theta = 0\n",
    "\\end{equation}\n",
    "where $b$ and $c$ are arbitrary constants.\n",
    "\n",
    "Since, `odeint` solver can solve first order differntial equation, we have to break the given equation into two first order equations -\n",
    "\n",
    "\\begin{align}\n",
    "&\\frac{d\\theta}{dt} = \\omega \\\\\n",
    "&\\frac{d\\omega}{dt} = - b\\omega - c\\theta\n",
    "\\end{align}\n",
    "\n",
    "To solve these coupled differential equations, we can consider a vector $y$ which holds two variables $\\theta$ and $\\omega$, i.e.\n",
    "\n",
    "$$y = [\\theta, \\omega]$$\n",
    "\n",
    "So, we can make a model which is essential for estimating slope at different points in the time $t$ domain for solving the differential equations."
   ]
  },
  {
   "cell_type": "code",
   "execution_count": 64,
   "id": "7083a98d",
   "metadata": {},
   "outputs": [],
   "source": [
    "def model(y, t, b, c):\n",
    "    theta, omega = y\n",
    "    dtheta_dt = omega\n",
    "    domega_dt = -b*omega - c*theta\n",
    "    dy_dt     = [dtheta_dt, domega_dt]\n",
    "    return dy_dt"
   ]
  },
  {
   "cell_type": "markdown",
   "id": "b2ef893c",
   "metadata": {},
   "source": [
    "Let us now set the initial conditions of the system. Consider, the pendulum is nearly at vertical position and the pendulum makes a very small angle, say $1^\\circ$ with vertical and initial velocity be 0. So, we can write the initial condition as"
   ]
  },
  {
   "cell_type": "code",
   "execution_count": 65,
   "id": "28ddb232",
   "metadata": {},
   "outputs": [],
   "source": [
    "import numpy as np\n",
    "\n",
    "y0 = [np.radians(1), 0]"
   ]
  },
  {
   "cell_type": "markdown",
   "id": "1f031bcc",
   "metadata": {},
   "source": [
    "Let us discretize the time domain into 100 points and calculate $y$ values at each point."
   ]
  },
  {
   "cell_type": "code",
   "execution_count": 66,
   "id": "c10d9b07",
   "metadata": {},
   "outputs": [],
   "source": [
    "t = np.linspace(0, 10, 100)"
   ]
  },
  {
   "cell_type": "markdown",
   "id": "a819937e",
   "metadata": {},
   "source": [
    "We have to pass the values of the constants $b$ and $c$ to the `odeint` function through `args=((b, c),)`. Let us take $b = 0.25, ~ c=5.0$ and assign the values to the variables."
   ]
  },
  {
   "cell_type": "code",
   "execution_count": 67,
   "id": "4cf9bcb9",
   "metadata": {},
   "outputs": [],
   "source": [
    "b, c = 0.25, 5.0\n",
    "\n",
    "from scipy.integrate import odeint\n",
    "\n",
    "y = odeint(model, y0, t, args=(b, c))\n",
    "theta, omega = y[:, 0], y[:, 1]"
   ]
  },
  {
   "cell_type": "markdown",
   "id": "5ff089ab",
   "metadata": {},
   "source": [
    "The solution is an array with shape (101, 2). The first column is $\\theta(t)$, and the second is $\\omega(t)$. The following code plots both components."
   ]
  },
  {
   "cell_type": "code",
   "execution_count": 68,
   "id": "6a30e827",
   "metadata": {},
   "outputs": [
    {
     "data": {
      "image/png": "[encoded data removed]",
      "text/plain": [
       "<Figure size 432x288 with 1 Axes>"
      ]
     },
     "metadata": {
      "needs_background": "light"
     },
     "output_type": "display_data"
    }
   ],
   "source": [
    "import matplotlib.pyplot as plt\n",
    "\n",
    "plt.plot(t, theta, lw=2, linestyle='--', color='red', label=\"$\\\\theta(t)$\")\n",
    "plt.plot(t, omega, lw=2, linestyle=':', color='blue', label=\"$\\omega(t)$\")\n",
    "plt.xlabel(\"$t$\", fontsize=14)\n",
    "plt.ylabel(\"$\\\\theta(t) / \\\\omega(t)$\", fontsize=14)\n",
    "plt.legend(loc=\"best\")\n",
    "plt.show()"
   ]
  },
  {
   "cell_type": "markdown",
   "id": "2ef00f7a",
   "metadata": {},
   "source": [
    "#### scipy.integrate.solve_ivp\n",
    "\n",
    "```\n",
    "scipy.integrate.solve_ivp(fun, t_span, y0, t_eval=None, args = none, ...)\n",
    "```\n",
    "\n",
    "Solve an initial value problem for a system of ODEs.\n",
    "\n",
    "The function numerically integrates an ordinary differential equation with a given initial value.\n",
    "\n",
    "\\begin{equation}\n",
    "\\frac{dy}{dt} = f(t, y)\\\\\n",
    "y(t_0) = y_0\n",
    "\\end{equation}\n",
    "\n",
    "|     |    \n",
    "|:--- |\n",
    "|**Parameters**|\n",
    "|`func`: **callable(y, t)** - The calling signature is `fun(t, y)`|\n",
    "|`t_span`: **2-tuple of floats** - Interval of integration (t0, tf). The solver starts with t=t0 and integrates until it reaches t=tf.|\n",
    "|`y0`: **array_like, shape (n,)** - Initial state.|\n",
    "|`t_eval`: **array_like or None, optional** - Times at which to store the computed solution, must be sorted and lie within t_span. If None (default), use points selected by the solver.|\n",
    "|`args`: **tuple, optional** - \n",
    "Additional arguments to pass to the user-defined functions. If given, the additional arguments are passed to all user-defined functions. So if, for example, fun has the signature fun(t, y, a, b, c),|\n",
    "\n",
    "|   |  \n",
    "|:--- |\n",
    "|**Returns**|\n",
    "|`t`: **ndarray, shape (n_points,)** - Time points.|\n",
    "|`y`: **ndarray, shape (n, n_points)** - Values of the solution at t.|\n",
    "|`sol`: **OdeSolution or None** - Found solution as OdeSolution instance; None if dense_output was set to False.|\n",
    "|`t_events`: **list of ndarray or None** - Contains for each event type a list of arrays at which an event of that type event was detected. None if events was None.|\n",
    "|`y_events`: **list of ndarray or None** - For each value of t_events, the corresponding value of the solution. None if events was None.|"
   ]
  },
  {
   "cell_type": "markdown",
   "id": "4401df06",
   "metadata": {},
   "source": [
    "#### Example - Radioactive Decay\n",
    "\n",
    "Radioactivity is the phenomenon where an atomic nucleus spontaneously decay to other nucleus without the aid of any external agent and the process continues until it reaches a stable atomic configuration. \n",
    "\n",
    "The rate of decay of a radioactive nucleus at any instant is proportional to the number of nuclei present in the sample at that time, i.e.\n",
    "\n",
    "\\begin{equation}\n",
    "\\frac{dN(t)}{dt} = \\lambda t\n",
    "\\end{equation}\n",
    "\n",
    "where $N(t)$ represents the number of radioactive nucleus at time $t$ and $\\lambda$ is the decay constant, which is related to the half-life (i.e. the time during which half of the sample is decayed) of the sample.\n",
    "\n",
    "If $N(t_0) = N_0$ represents the initial number of radioactive nucleus present in the sample, then, we can treat it as an initial value problem and solve with the help of `solve_ivp` solver from SciPy .\n",
    "\n",
    "So, first of all let us frame our decay model, which should be"
   ]
  },
  {
   "cell_type": "code",
   "execution_count": 69,
   "id": "5de36f3b",
   "metadata": {},
   "outputs": [],
   "source": [
    "def model_decay(t, N):\n",
    "    return -lamda*N"
   ]
  },
  {
   "cell_type": "markdown",
   "id": "77823b05",
   "metadata": {},
   "source": [
    "The initial condition is that at the begining i.e. when start studying the system, the numebr of nuclei at the sample be 10000. So, we can write $N(0) = 10000$.\n",
    "\n",
    "Let us discretize our time domain into 1000 points and start calculating the value of $N$ at each time point. This can be done in this way."
   ]
  },
  {
   "cell_type": "code",
   "execution_count": 70,
   "id": "7461710a",
   "metadata": {},
   "outputs": [],
   "source": [
    "t_init, t_final = 0, 1000\n",
    "t = np.arange(t_init, t_final, 100)\n",
    "N0 = [10000]\n",
    "lamda = 0.005"
   ]
  },
  {
   "cell_type": "markdown",
   "id": "c97928a0",
   "metadata": {},
   "source": [
    "Now, we arrange the problem definitions according to our `solve_ivp` solver."
   ]
  },
  {
   "cell_type": "code",
   "execution_count": 71,
   "id": "b6552d5c",
   "metadata": {},
   "outputs": [],
   "source": [
    "func = model_decay\n",
    "t_span = [t_init, t_final]\n",
    "y0 = N0\n",
    "t_eval = t"
   ]
  },
  {
   "cell_type": "code",
   "execution_count": 72,
   "id": "cc049335",
   "metadata": {},
   "outputs": [],
   "source": [
    "from scipy.integrate import solve_ivp\n",
    "\n",
    "sol = solve_ivp(model_decay, t_span=[t_init, t_final], y0=N0, t_eval = t)\n",
    "\n",
    "t = sol.t\n",
    "N = sol.y.T"
   ]
  },
  {
   "cell_type": "markdown",
   "id": "9769240e",
   "metadata": {},
   "source": [
    "The solution can be represented graphivally with the following code."
   ]
  },
  {
   "cell_type": "code",
   "execution_count": 73,
   "id": "9bb22aa0",
   "metadata": {},
   "outputs": [],
   "source": [
    "def analytical_model(t):\n",
    "    return N0*np.exp(-lamda*t)\n",
    "\n",
    "N_analytical = analytical_model(t)"
   ]
  },
  {
   "cell_type": "code",
   "execution_count": 74,
   "id": "1be85384",
   "metadata": {},
   "outputs": [
    {
     "data": {
      "image/png": "[encoded data removed]",
      "text/plain": [
       "<Figure size 432x288 with 1 Axes>"
      ]
     },
     "metadata": {
      "needs_background": "light"
     },
     "output_type": "display_data"
    }
   ],
   "source": [
    "plt.plot(t, N, 'b-', label='analytical approach')\n",
    "plt.plot(t, N, 'ro', label='Numerical approach')\n",
    "plt.xlabel(\"$t$\", fontsize=14)\n",
    "plt.ylabel(\"$N(t)$\", fontsize=14)\n",
    "plt.legend()\n",
    "plt.show()"
   ]
  }
 ],
 "metadata": {
  "kernelspec": {
   "display_name": "Python 3",
   "language": "python",
   "name": "python3"
  },
  "language_info": {
   "codemirror_mode": {
    "name": "ipython",
    "version": 3
   },
   "file_extension": ".py",
   "mimetype": "text/x-python",
   "name": "python",
   "nbconvert_exporter": "python",
   "pygments_lexer": "ipython3",
   "version": "3.7.6"
  },
  "nbsphinx-toctree": {
   "maxdepth": 3,
   "numbered": true
  }
 },
 "nbformat": 4,
 "nbformat_minor": 5
}
